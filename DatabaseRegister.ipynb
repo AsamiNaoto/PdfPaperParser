{
 "cells": [
  {
   "cell_type": "code",
   "execution_count": 19,
   "metadata": {
    "ExecuteTime": {
     "end_time": "2020-05-09T13:50:53.635819Z",
     "start_time": "2020-05-09T13:50:52.395557Z"
    }
   },
   "outputs": [],
   "source": [
    "from pymongo import MongoClient\n",
    "import datetime\n",
    "import pprint\n",
    "import re\n",
    "from pathlib import Path\n",
    "import pprint\n",
    "import json"
   ]
  },
  {
   "cell_type": "code",
   "execution_count": 20,
   "metadata": {
    "ExecuteTime": {
     "end_time": "2020-05-09T13:50:55.789036Z",
     "start_time": "2020-05-09T13:50:53.661745Z"
    }
   },
   "outputs": [],
   "source": [
    "from pdf_parser_ver2 import PdfParser, DirectoryPdfParser"
   ]
  },
  {
   "cell_type": "markdown",
   "metadata": {},
   "source": [
    "## データベースの設定 "
   ]
  },
  {
   "cell_type": "code",
   "execution_count": 21,
   "metadata": {
    "ExecuteTime": {
     "end_time": "2020-05-09T13:50:55.859843Z",
     "start_time": "2020-05-09T13:50:55.812971Z"
    }
   },
   "outputs": [],
   "source": [
    "client = MongoClient('localhost', 27017)\n",
    "db = client[\"db\"]\n",
    "collection = db[\"papers\"]"
   ]
  },
  {
   "cell_type": "markdown",
   "metadata": {},
   "source": [
    "## データベースへの登録 "
   ]
  },
  {
   "cell_type": "markdown",
   "metadata": {},
   "source": [
    "ディレクトリから読み込み，データベースへ登録"
   ]
  },
  {
   "cell_type": "code",
   "execution_count": 22,
   "metadata": {
    "ExecuteTime": {
     "end_time": "2020-05-09T13:50:55.942622Z",
     "start_time": "2020-05-09T13:50:55.886771Z"
    }
   },
   "outputs": [],
   "source": [
    "start_patterns = {\"序論\":re.compile(\"[1-9]*( |　)*(背景|はじめに|Abstract|序論|概要|Introduction|序)\"), \n",
    "                  \"結論\":re.compile(\"[2-9]+( |　)*(おわりに|結論|まとめ|むすび|Conclusion)\"),\n",
    "                  \"全部\":re.compile(\".*\") # 全てのものにマッチング\n",
    "                 }  # これが当てはまらないものも多い\n",
    "end_patterns = {\"序論\":re.compile(\"[2-9]+( |　)*(関連研究|提案手法|従来手法|従来研究)?\"), #とりあえず2章以降はダメ\n",
    "                \"結論\":re.compile(\"参考文献|謝辞\"),\n",
    "                \"全部\":None\n",
    "               }  # これが当てはまらないものも多い\n",
    "max_iter = 50\n",
    "parse_page_numbers = None"
   ]
  },
  {
   "cell_type": "markdown",
   "metadata": {},
   "source": [
    "### jsonファイルからディレクトリ情報を取得 "
   ]
  },
  {
   "cell_type": "code",
   "execution_count": 25,
   "metadata": {
    "ExecuteTime": {
     "end_time": "2020-05-09T13:50:56.149001Z",
     "start_time": "2020-05-09T13:50:55.966631Z"
    }
   },
   "outputs": [
    {
     "name": "stdout",
     "output_type": "stream",
     "text": [
      "[PosixPath('/mnt/umenas_root/SSII/SSII 2015/papers/IS1'), PosixPath('/mnt/umenas_root/SSII/SSII 2015/papers/IS2'), PosixPath('/mnt/umenas_root/SSII/SSII 2015/papers/IS3'), PosixPath('/mnt/umenas_root/SSII/SSII 2016/pdf'), PosixPath('/mnt/umenas_root/SSII/SSII 2017/pdf'), PosixPath('/mnt/umenas_root/SSII/SSII 2018/pdf'), PosixPath('/mnt/umenas_root/SSII/SSII 2019/pdf'), PosixPath('/mnt/umenas_root/ViEW/ViEW2015/docs'), PosixPath('/mnt/umenas_root/MIRU/MIRU 2015/ea'), PosixPath('/mnt/umenas_root/MIRU/MIRU 2016/pdf'), PosixPath('/mnt/umenas_root/MIRU/MIRU 2019/ea'), PosixPath('/mnt/umenas_root/ロボティクスシンポジア/2015/paper'), PosixPath('/mnt/umenas_root/ロボティクスシンポジア/2016/paper'), PosixPath('/mnt/umenas_root/ロボティクスシンポジア/2017/paper'), PosixPath('/mnt/umenas_root/ロボティクスシンポジア/2018'), PosixPath('/mnt/umenas_root/ロボティクスシンポジア/2019/rs2019data/paper'), PosixPath('/mnt/umenas_root/ロボティクスシンポジア/2020/paper'), PosixPath('/mnt/umenas_root/ROBOMECH（ROBOMEC）/2017/PDF'), PosixPath('/mnt/umenas_root/ROBOMECH（ROBOMEC）/2018/PDF'), PosixPath('/mnt/umenas_root/ROBOMECH（ROBOMEC）/2019/PDF'), PosixPath('/mnt/umenas_root/日本ロボット学会/RSJ 2016/pdf'), PosixPath('/mnt/umenas_root/日本ロボット学会/RSJ 2017/pdf'), PosixPath('/mnt/umenas_root/日本ロボット学会/RSJ 2019/pdf')] ['SSII', 'SSII', 'SSII', 'SSII', 'SSII', 'SSII', 'SSII', 'ViEW', 'MiRU', 'MiRU', 'MiRU', 'robosym', 'robosym', 'robosym', 'robosym', 'robosym', 'robosym', 'robomech', 'robomech', 'robomech', 'rsj', 'rsj', 'rsj'] [0, 0, 0, 3, 3, 2, 2, 0, 1, 1, 1, 1, 1, 1, 1, 1, 1, 0, 0, 0, 0, 0, 0] [[2015, 6], [2015, 6], [2015, 6], [2016, 6], [2017, 6], [2018, 6], [2019, 6], [2015, 12], [2015, 8], [2016, 8], [2019, 8], [2016, 2], [2017, 2], [2018, 2], [2019, 2], [2020, 2], [2017, 5], [2018, 5], [2019, 5], [2016, 8], [2017, 8], [2019, 8]]\n"
     ]
    }
   ],
   "source": [
    "#json_path = Path('./paper_directory.json')\n",
    "#json_path = Path('./paper_directory_ver2.json')\n",
    "json_path = Path('./paper_directory_ver3.json')\n",
    "\n",
    "with open(json_path, encoding=\"utf-8\") as f:\n",
    "    paper_directory_information = json.load(f)\n",
    "    \n",
    "dir_path_list = [Path(str_path) for str_path in paper_directory_information[\"directories\"]]\n",
    "conference_name_list = paper_directory_information[\"conference_names\"]\n",
    "title_position_number_list = paper_directory_information[\"title_position_numbers\"]\n",
    "date_list = paper_directory_information[\"dates\"]\n",
    "print(dir_path_list, conference_name_list, title_position_number_list, date_list)"
   ]
  },
  {
   "cell_type": "code",
   "execution_count": 26,
   "metadata": {
    "ExecuteTime": {
     "end_time": "2020-05-09T15:19:03.488345Z",
     "start_time": "2020-05-09T14:07:03.244945Z"
    }
   },
   "outputs": [
    {
     "name": "stderr",
     "output_type": "stream",
     "text": [
      "100%|██████████| 37/37 [01:35<00:00,  2.58s/it]\n",
      "100%|██████████| 23/23 [00:28<00:00,  1.22s/it]\n",
      "100%|██████████| 36/36 [02:02<00:00,  3.41s/it]\n",
      "100%|██████████| 293/293 [12:04<00:00,  2.47s/it]  \n",
      "100%|██████████| 284/284 [11:19<00:00,  2.39s/it]  \n",
      "100%|██████████| 136/136 [05:10<00:00,  2.28s/it]\n",
      "100%|██████████| 158/158 [1:24:12<00:00, 31.98s/it]    \n",
      "100%|██████████| 145/145 [02:26<00:00,  1.01s/it]\n",
      "100%|██████████| 245/245 [05:16<00:00,  1.29s/it]\n",
      "100%|██████████| 262/262 [01:46<00:00,  2.46it/s]\n",
      "100%|██████████| 312/312 [11:43<00:00,  2.25s/it]\n",
      "100%|██████████| 91/91 [06:54<00:00,  4.55s/it] \n",
      "100%|██████████| 80/80 [03:55<00:00,  2.94s/it]\n",
      "100%|██████████| 81/81 [04:19<00:00,  3.20s/it]\n",
      "100%|██████████| 82/82 [03:15<00:00,  2.39s/it]\n",
      "100%|██████████| 94/94 [04:06<00:00,  2.63s/it]\n",
      "100%|██████████| 83/83 [05:10<00:00,  3.74s/it]\n",
      "100%|██████████| 1274/1274 [16:40<00:00,  1.27it/s] \n",
      "100%|██████████| 1313/1313 [16:33<00:00,  1.32it/s] \n",
      "100%|██████████| 1326/1326 [18:28<00:00,  1.20it/s] \n",
      "100%|██████████| 637/637 [18:54<00:00,  1.78s/it] \n",
      "100%|██████████| 490/490 [1:41:26<00:00, 12.42s/it]      \n"
     ]
    }
   ],
   "source": [
    "for dir_path, conference_name, title_position_number, date_str in zip(dir_path_list, \n",
    "                                                                      conference_name_list, \n",
    "                                                                      title_position_number_list, \n",
    "                                                                      date_list):\n",
    "    \n",
    "    date = datetime.datetime(date_str[0], date_str[1], 1, 00, 00, 00),\n",
    "    \n",
    "    pdf_parser = PdfParser(conference_name=conference_name,\n",
    "                           start_patterns=start_patterns,\n",
    "                           end_patterns=end_patterns,\n",
    "                           title_position_number=title_position_number,\n",
    "                           parse_page_numbers=parse_page_numbers,\n",
    "                           date=date\n",
    "                           )\n",
    "\n",
    "\n",
    "\n",
    "    dir_pdf_parser = DirectoryPdfParser(dir_path=dir_path,\n",
    "                                        pdf_parser=pdf_parser,\n",
    "                                        max_iter = max_iter\n",
    "                                        )\n",
    "#     try:\n",
    "    for dict_list in dir_pdf_parser.parse_dict_list():\n",
    "        #result = collection.insert_many(dict_list)  # これは用いない\n",
    "\n",
    "        for one_dict in dict_list:\n",
    "            find_result = collection.find_one(filter={\"$and\":[{\"conf_name\":one_dict[\"conf_name\"]},\n",
    "                                                              {\"pdf_name\":one_dict[\"pdf_name\"]}]})  # 同じ学会名とファイル名があるかどうかチェック\n",
    "            if find_result is None:  # 検索結果が返ってこなかった場合\n",
    "                 result = collection.insert_one(one_dict)\n",
    "#     except:\n",
    "#         pass"
   ]
  },
  {
   "cell_type": "code",
   "execution_count": 27,
   "metadata": {
    "ExecuteTime": {
     "end_time": "2020-05-09T14:06:22.388178Z",
     "start_time": "2020-05-09T13:50:52.640Z"
    },
    "scrolled": true
   },
   "outputs": [
    {
     "name": "stdout",
     "output_type": "stream",
     "text": [
      "2942\n"
     ]
    }
   ],
   "source": [
    "counter = 0\n",
    "for dict in collection.find():\n",
    "    counter += 1\n",
    "\n",
    "print(counter)"
   ]
  },
  {
   "cell_type": "code",
   "execution_count": 18,
   "metadata": {},
   "outputs": [
    {
     "name": "stdout",
     "output_type": "stream",
     "text": [
      "{'_id': ObjectId('5ee50e7b521d6a64070a5ae3'), 'pdf_name': '0002', 'paper_title': '(cid:18644)(cid:18645)(cid:18636)(cid:18612)(cid:18610)(cid:18611)(cid:18610)(cid:18627)(cid:18629)(cid:18613)(cid:18630)(cid:18612)(cid:18607)(cid:18613)', 'content': {'序論': '', '結論': ''}, 'date': '(datetime.datetime(2010, 9, 1, 0, 0),)', 'conf_name': 'robotgakkai2019'}\n"
     ]
    }
   ],
   "source": [
    "find_one = collection.find_one()\n",
    "print(find_one)"
   ]
  },
  {
   "cell_type": "code",
   "execution_count": 8,
   "metadata": {},
   "outputs": [
    {
     "name": "stdout",
     "output_type": "stream",
     "text": [
      "{'_id': ObjectId('5ee50e7b521d6a64070a5ae5'), 'pdf_name': '0005', 'paper_title': '(cid:18644)(cid:18645)(cid:18636)(cid:18612)(cid:18610)(cid:18611)(cid:18610)(cid:18627)(cid:18629)(cid:18611)(cid:18643)(cid:18612)(cid:18607)(cid:18612)', 'content': {'序論': '', '結論': ''}, 'date': '(datetime.datetime(2010, 9, 1, 0, 0),)', 'conf_name': 'robotgakkai2019'}\n"
     ]
    }
   ],
   "source": [
    "find_one = collection.find_one(filter={\"pdf_name\":\"0005\"})\n",
    "print(find_one)"
   ]
  },
  {
   "cell_type": "markdown",
   "metadata": {},
   "source": [
    "## コレクションの削除 "
   ]
  },
  {
   "cell_type": "markdown",
   "metadata": {},
   "source": [
    "軽率に削除してはいけない"
   ]
  },
  {
   "cell_type": "code",
   "execution_count": 17,
   "metadata": {
    "ExecuteTime": {
     "end_time": "2020-05-09T14:06:27.787391Z",
     "start_time": "2020-05-09T14:06:27.645528Z"
    }
   },
   "outputs": [],
   "source": [
    "collection.drop()"
   ]
  },
  {
   "cell_type": "markdown",
   "metadata": {},
   "source": [
    "## データベースの削除 "
   ]
  },
  {
   "cell_type": "code",
   "execution_count": 18,
   "metadata": {
    "ExecuteTime": {
     "end_time": "2020-05-09T14:06:22.410118Z",
     "start_time": "2020-05-09T13:50:52.691Z"
    }
   },
   "outputs": [],
   "source": [
    "client.drop_database(\"my_db\")"
   ]
  },
  {
   "cell_type": "code",
   "execution_count": null,
   "metadata": {},
   "outputs": [],
   "source": []
  }
 ],
 "metadata": {
  "kernelspec": {
   "display_name": "pdf_py37",
   "language": "python",
   "name": "pdf_py37"
  },
  "language_info": {
   "codemirror_mode": {
    "name": "ipython",
    "version": 3
   },
   "file_extension": ".py",
   "mimetype": "text/x-python",
   "name": "python",
   "nbconvert_exporter": "python",
   "pygments_lexer": "ipython3",
   "version": "3.7.7"
  },
  "toc": {
   "base_numbering": 1,
   "nav_menu": {},
   "number_sections": true,
   "sideBar": true,
   "skip_h1_title": false,
   "title_cell": "Table of Contents",
   "title_sidebar": "Contents",
   "toc_cell": false,
   "toc_position": {},
   "toc_section_display": true,
   "toc_window_display": false
  }
 },
 "nbformat": 4,
 "nbformat_minor": 4
}
