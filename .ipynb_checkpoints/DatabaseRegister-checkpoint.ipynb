{
 "cells": [
  {
   "cell_type": "code",
   "execution_count": 1,
   "metadata": {
    "ExecuteTime": {
     "end_time": "2020-05-09T13:50:53.635819Z",
     "start_time": "2020-05-09T13:50:52.395557Z"
    }
   },
   "outputs": [],
   "source": [
    "from pymongo import MongoClient\n",
    "import datetime\n",
    "import pprint\n",
    "import re\n",
    "from pathlib import Path\n",
    "import pprint\n",
    "import json"
   ]
  },
  {
   "cell_type": "code",
   "execution_count": 2,
   "metadata": {
    "ExecuteTime": {
     "end_time": "2020-05-09T13:50:55.789036Z",
     "start_time": "2020-05-09T13:50:53.661745Z"
    }
   },
   "outputs": [],
   "source": [
    "from pdf_parser_ver2 import PdfParser, DirectoryPdfParser"
   ]
  },
  {
   "cell_type": "markdown",
   "metadata": {},
   "source": [
    "## データベースの設定 "
   ]
  },
  {
   "cell_type": "code",
   "execution_count": 3,
   "metadata": {
    "ExecuteTime": {
     "end_time": "2020-05-09T13:50:55.859843Z",
     "start_time": "2020-05-09T13:50:55.812971Z"
    }
   },
   "outputs": [],
   "source": [
    "client = MongoClient('localhost', 27017)\n",
    "db = client[\"db\"]\n",
    "collection = db[\"papers\"]"
   ]
  },
  {
   "cell_type": "markdown",
   "metadata": {},
   "source": [
    "## データベースへの登録 "
   ]
  },
  {
   "cell_type": "markdown",
   "metadata": {},
   "source": [
    "ディレクトリから読み込み，データベースへ登録"
   ]
  },
  {
   "cell_type": "code",
   "execution_count": 4,
   "metadata": {
    "ExecuteTime": {
     "end_time": "2020-05-09T13:50:55.942622Z",
     "start_time": "2020-05-09T13:50:55.886771Z"
    }
   },
   "outputs": [],
   "source": [
    "start_patterns = {\"序論\":re.compile(\"[1-9]*( |　)*(背景|はじめに|Abstract|序論|概要|Introduction)\"), \n",
    "                \"結論\":re.compile(\"[2-9]+( |　)*(おわりに|結論|まとめ|むすび|Conclusion)\")}  # これが当てはまらないものも多い\n",
    "end_patterns = {\"序論\":re.compile(\"[2-9]+( |　)*(関連研究|提案手法|従来手法|従来研究)\"),\n",
    "                \"結論\":re.compile(\"参考文献|謝辞\")}  # これが当てはまらないものも多い\n",
    "max_iter = 5\n",
    "parse_page_numbers = None"
   ]
  },
  {
   "cell_type": "markdown",
   "metadata": {},
   "source": [
    "### jsonファイルからディレクトリ情報を取得 "
   ]
  },
  {
   "cell_type": "code",
   "execution_count": 5,
   "metadata": {
    "ExecuteTime": {
     "end_time": "2020-05-09T13:50:56.149001Z",
     "start_time": "2020-05-09T13:50:55.966631Z"
    }
   },
   "outputs": [
    {
     "name": "stdout",
     "output_type": "stream",
     "text": [
      "[WindowsPath('E:/資料/論文集/ssii/pdf')] ['SSII2019'] [2]\n"
     ]
    }
   ],
   "source": [
    "with open('paper_directory.json', encoding=\"utf-8\") as f:\n",
    "    paper_directory_information = json.load(f)\n",
    "    \n",
    "dir_path_list = [Path(str_path) for str_path in paper_directory_information[\"directories\"]]\n",
    "conference_name_list = paper_directory_information[\"conference_names\"]\n",
    "title_position_number_list = paper_directory_information[\"title_position_numbers\"]\n",
    "print(dir_path_list, conference_name_list, title_position_number_list)"
   ]
  },
  {
   "cell_type": "code",
   "execution_count": 8,
   "metadata": {
    "ExecuteTime": {
     "end_time": "2020-05-09T15:19:03.488345Z",
     "start_time": "2020-05-09T14:07:03.244945Z"
    }
   },
   "outputs": [
    {
     "name": "stderr",
     "output_type": "stream",
     "text": [
      "100%|██████████████████████████████████████████████████████████████████████████████| 143/143 [1:11:59<00:00, 30.21s/it]\n"
     ]
    }
   ],
   "source": [
    "for dir_path, conference_name,  title_position_number in zip(dir_path_list, conference_name_list, title_position_number_list):\n",
    "    \n",
    "    pdf_parser = PdfParser(conference_name=conference_name,\n",
    "                        start_patterns=start_patterns,\n",
    "                        end_patterns=end_patterns,\n",
    "                        title_position_number=title_position_number,\n",
    "                        parse_page_numbers=parse_page_numbers,\n",
    "                        )\n",
    "\n",
    "\n",
    "\n",
    "    dir_pdf_parser = DirectoryPdfParser(dir_path=dir_path,\n",
    "                                        pdf_parser=pdf_parser,\n",
    "                                        max_iter = max_iter\n",
    "                                        )\n",
    "\n",
    "    for dict_list in dir_pdf_parser.parse_dict_list():\n",
    "        #result = collection.insert_many(dict_list)  # これは用いない\n",
    "        \n",
    "        for one_dict in dict_list:\n",
    "            find_result = collection.find_one(filter={\"$and\":[{\"conf_name\":one_dict[\"conf_name\"]},\n",
    "                                                              {\"pdf_name\":one_dict[\"pdf_name\"]}]})  # 同じ学会名とファイル名があるかどうかチェック\n",
    "            if find_result is None:  # 検索結果が返ってこなかった場合\n",
    "                 result = collection.insert_one(one_dict)"
   ]
  },
  {
   "cell_type": "code",
   "execution_count": null,
   "metadata": {
    "ExecuteTime": {
     "end_time": "2020-05-09T14:06:22.388178Z",
     "start_time": "2020-05-09T13:50:52.640Z"
    }
   },
   "outputs": [],
   "source": [
    "counter = 0\n",
    "for dict in collection.find():\n",
    "    counter += 1\n",
    "\n",
    "print(counter)"
   ]
  },
  {
   "cell_type": "markdown",
   "metadata": {},
   "source": [
    "## コレクションの削除 "
   ]
  },
  {
   "cell_type": "code",
   "execution_count": 7,
   "metadata": {
    "ExecuteTime": {
     "end_time": "2020-05-09T14:06:27.787391Z",
     "start_time": "2020-05-09T14:06:27.645528Z"
    }
   },
   "outputs": [],
   "source": [
    "collection.drop()"
   ]
  },
  {
   "cell_type": "markdown",
   "metadata": {},
   "source": [
    "## データベースの削除 "
   ]
  },
  {
   "cell_type": "code",
   "execution_count": null,
   "metadata": {
    "ExecuteTime": {
     "end_time": "2020-05-09T14:06:22.410118Z",
     "start_time": "2020-05-09T13:50:52.691Z"
    }
   },
   "outputs": [],
   "source": [
    "client.drop_database(\"my_db\")"
   ]
  }
 ],
 "metadata": {
  "kernelspec": {
   "display_name": "pdf_py37",
   "language": "python",
   "name": "pdf_py37"
  },
  "language_info": {
   "codemirror_mode": {
    "name": "ipython",
    "version": 3
   },
   "file_extension": ".py",
   "mimetype": "text/x-python",
   "name": "python",
   "nbconvert_exporter": "python",
   "pygments_lexer": "ipython3",
   "version": "3.7.7"
  },
  "toc": {
   "base_numbering": 1,
   "nav_menu": {},
   "number_sections": true,
   "sideBar": true,
   "skip_h1_title": false,
   "title_cell": "Table of Contents",
   "title_sidebar": "Contents",
   "toc_cell": false,
   "toc_position": {},
   "toc_section_display": true,
   "toc_window_display": false
  }
 },
 "nbformat": 4,
 "nbformat_minor": 4
}
